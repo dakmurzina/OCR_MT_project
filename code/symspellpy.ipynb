{
 "cells": [
  {
   "attachments": {},
   "cell_type": "markdown",
   "metadata": {},
   "source": [
    "### Import libraries"
   ]
  },
  {
   "cell_type": "code",
   "execution_count": 17,
   "metadata": {},
   "outputs": [
    {
     "name": "stderr",
     "output_type": "stream",
     "text": [
      "[nltk_data] Downloading package punkt to /home/dakmurzina/nltk_data...\n",
      "[nltk_data]   Package punkt is already up-to-date!\n"
     ]
    },
    {
     "data": {
      "text/plain": [
       "True"
      ]
     },
     "execution_count": 17,
     "metadata": {},
     "output_type": "execute_result"
    }
   ],
   "source": [
    "from itertools import islice\n",
    "from symspellpy import SymSpell, Verbosity\n",
    "import nltk\n",
    "from nltk.tokenize import word_tokenize\n",
    "nltk.download('punkt')"
   ]
  },
  {
   "attachments": {},
   "cell_type": "markdown",
   "metadata": {},
   "source": [
    "### Initialize symspell intance and load dictionary"
   ]
  },
  {
   "cell_type": "code",
   "execution_count": 18,
   "metadata": {},
   "outputs": [
    {
     "data": {
      "text/plain": [
       "True"
      ]
     },
     "execution_count": 18,
     "metadata": {},
     "output_type": "execute_result"
    }
   ],
   "source": [
    "# Initialize symspellpy instance\n",
    "sym_spell = SymSpell()\n",
    "\n",
    "# Load the French dictionary\n",
    "dictionary_path = \"../data/fr-100k.txt\"\n",
    "sym_spell.load_dictionary(dictionary_path, 0, 1)"
   ]
  },
  {
   "cell_type": "code",
   "execution_count": 19,
   "metadata": {},
   "outputs": [
    {
     "name": "stdout",
     "output_type": "stream",
     "text": [
      "[('de', 4480895281), ('la', 2669356111), ('et', 1986468325), ('le', 1782286963), (\"l'\", 1757981556)]\n"
     ]
    }
   ],
   "source": [
    "# Check if everything is imported correctly\n",
    "print(list(islice(sym_spell.words.items(), 5)))"
   ]
  },
  {
   "attachments": {},
   "cell_type": "markdown",
   "metadata": {},
   "source": [
    "### Define a function that does word segmentation"
   ]
  },
  {
   "cell_type": "code",
   "execution_count": 79,
   "metadata": {},
   "outputs": [],
   "source": [
    "# This function takes an incorrecly segmented sentence as input and returns the sentence with corrected segmented words\n",
    "def wordSegmentation(input_text):\n",
    "    result = sym_spell.word_segmentation(input_text, ignore_token=r\"\\d{2}\\w*\\b|\\d+\\W+\\d+\\b|\\d\\w*\\b|,|\\.|\\?|!|'\")\n",
    "    return result.corrected_string"
   ]
  },
  {
   "attachments": {},
   "cell_type": "markdown",
   "metadata": {},
   "source": [
    "### Define a function that corrects spelling of words"
   ]
  },
  {
   "cell_type": "code",
   "execution_count": 92,
   "metadata": {},
   "outputs": [],
   "source": [
    "# This function takes an incorrecly spelled sentence as input and returns the sentence with corrected spelling\n",
    "def correctSpelling(text):\n",
    "    words = word_tokenize(text)\n",
    "    corrected_text = []\n",
    "    for word in words:\n",
    "        if word.isalpha():\n",
    "            suggestions = sym_spell.lookup(word, Verbosity.CLOSEST, max_edit_distance=2, transfer_casing=True, include_unknown=True)\n",
    "            if suggestions:\n",
    "                corrected_text.append(suggestions[0].term)\n",
    "            else:\n",
    "                corrected_text.append(word)\n",
    "        else:\n",
    "            corrected_text.append(word)\n",
    "    corrected_text = \" \".join(corrected_text).replace(\" ,\", \",\").replace(\" .\", \".\").replace(\" ' \", \"'\")\n",
    "    return corrected_text"
   ]
  },
  {
   "attachments": {},
   "cell_type": "markdown",
   "metadata": {},
   "source": [
    "### Define a function to load data"
   ]
  },
  {
   "cell_type": "code",
   "execution_count": 23,
   "metadata": {},
   "outputs": [],
   "source": [
    "def loadData(filepath):\n",
    "    with open(filepath, 'r', encoding='UTF-8') as file:\n",
    "        input_file = file.read()\n",
    "        input_file = input_file.replace('\\n', \" \")\n",
    "    return input_file"
   ]
  },
  {
   "attachments": {},
   "cell_type": "markdown",
   "metadata": {},
   "source": [
    "### Define a function that processes data"
   ]
  },
  {
   "cell_type": "code",
   "execution_count": 88,
   "metadata": {},
   "outputs": [],
   "source": [
    "def processData(input_text):\n",
    "    # input_text = wordSegmentation(input_text) # can be used if there are two or more words are joined or one word is separated into two.\n",
    "    output_text = correctSpelling(input_text)\n",
    "    return output_text"
   ]
  },
  {
   "attachments": {},
   "cell_type": "markdown",
   "metadata": {},
   "source": [
    "### Write the corrected text to a new .txt file"
   ]
  },
  {
   "cell_type": "code",
   "execution_count": 70,
   "metadata": {},
   "outputs": [],
   "source": [
    "def exportData(output_file, output_file_path):\n",
    "    with open(output_file_path, 'w', encoding='UTF-8') as file:\n",
    "        sentences = nltk.sent_tokenize(output_file)\n",
    "        for sentence in sentences:\n",
    "            file.write(sentence + \"\\n\")\n",
    "    print(\"File has successfully been written\")"
   ]
  },
  {
   "attachments": {},
   "cell_type": "markdown",
   "metadata": {},
   "source": [
    "### Correct spelling in the OCR'd handwritten text in French"
   ]
  },
  {
   "cell_type": "code",
   "execution_count": 96,
   "metadata": {},
   "outputs": [
    {
     "name": "stdout",
     "output_type": "stream",
     "text": [
      "File has successfully been written\n"
     ]
    }
   ],
   "source": [
    "fr_hw_input_text = loadData('../data/fr_hw_transkribus_french_model_1_sentence_segmentation.txt')\n",
    "fr_hw_output_sentences = processData(fr_hw_input_text)\n",
    "exportData(fr_hw_output_sentences, '../data/fr_hw_symspellpy.txt')"
   ]
  },
  {
   "attachments": {},
   "cell_type": "markdown",
   "metadata": {},
   "source": [
    "### Correct spelling in the OCR'd printed text in French"
   ]
  },
  {
   "cell_type": "code",
   "execution_count": 93,
   "metadata": {},
   "outputs": [
    {
     "name": "stdout",
     "output_type": "stream",
     "text": [
      "File has successfully been written\n"
     ]
    }
   ],
   "source": [
    "fr_pt_input_sentences = loadData('../data/fr_pt_transkribus_print_0.3_sentence_segmentation.txt')\n",
    "fr_pt_output_sentences = processData(fr_pt_input_sentences)\n",
    "exportData(fr_pt_output_sentences, '../data/fr_pt_symspellpy.txt')"
   ]
  }
 ],
 "metadata": {
  "kernelspec": {
   "display_name": "Python 3",
   "language": "python",
   "name": "python3"
  },
  "language_info": {
   "codemirror_mode": {
    "name": "ipython",
    "version": 3
   },
   "file_extension": ".py",
   "mimetype": "text/x-python",
   "name": "python",
   "nbconvert_exporter": "python",
   "pygments_lexer": "ipython3",
   "version": "3.10.6"
  },
  "orig_nbformat": 4
 },
 "nbformat": 4,
 "nbformat_minor": 2
}
