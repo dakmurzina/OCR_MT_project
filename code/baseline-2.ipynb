{
 "cells": [
  {
   "cell_type": "markdown",
   "id": "006525a7",
   "metadata": {},
   "source": [
    "### Import libraries"
   ]
  },
  {
   "cell_type": "code",
   "execution_count": 1,
   "id": "34f9ce9d",
   "metadata": {},
   "outputs": [
    {
     "name": "stderr",
     "output_type": "stream",
     "text": [
      "[nltk_data] Downloading package punkt to C:\\Users\\Dinara\n",
      "[nltk_data]     Akmurzina\\AppData\\Roaming\\nltk_data...\n",
      "[nltk_data]   Package punkt is already up-to-date!\n"
     ]
    }
   ],
   "source": [
    "# Custom modules\n",
    "from segmentation import content2txt"
   ]
  },
  {
   "cell_type": "markdown",
   "id": "803377c6",
   "metadata": {},
   "source": [
    "### Sentence Segmentation for the handwritten OCR'd text"
   ]
  },
  {
   "cell_type": "code",
   "execution_count": null,
   "id": "3cbc99f9",
   "metadata": {},
   "outputs": [],
   "source": [
    "content2txt(\"../data/fr_hw_baseline_2.txt\", input_filepath=\"../data/fr_hw_transkribus_french_model_1_for_handwritten.txt\")"
   ]
  },
  {
   "cell_type": "markdown",
   "id": "2651e9c8",
   "metadata": {},
   "source": [
    "### Sentence Segmentation for the printed OCR'd text"
   ]
  },
  {
   "cell_type": "code",
   "execution_count": null,
   "id": "29db7def",
   "metadata": {},
   "outputs": [],
   "source": [
    "content2txt(\"../data/fr_pt_baseline_2.txt\", input_filepath=\"../data/fr_pt_transkribus_print_0.3_multi_language.txt\")"
   ]
  }
 ],
 "metadata": {
  "kernelspec": {
   "display_name": "Python 3 (ipykernel)",
   "language": "python",
   "name": "python3"
  },
  "language_info": {
   "codemirror_mode": {
    "name": "ipython",
    "version": 3
   },
   "file_extension": ".py",
   "mimetype": "text/x-python",
   "name": "python",
   "nbconvert_exporter": "python",
   "pygments_lexer": "ipython3",
   "version": "3.10.11"
  }
 },
 "nbformat": 4,
 "nbformat_minor": 5
}
