{
 "cells": [
  {
   "cell_type": "markdown",
   "id": "1e1172e8",
   "metadata": {},
   "source": [
    "## Import libraries"
   ]
  },
  {
   "cell_type": "code",
   "execution_count": 1,
   "id": "b7890537",
   "metadata": {},
   "outputs": [
    {
     "name": "stderr",
     "output_type": "stream",
     "text": [
      "[nltk_data] Downloading package punkt to C:\\Users\\Dinara\n",
      "[nltk_data]     Akmurzina\\AppData\\Roaming\\nltk_data...\n",
      "[nltk_data]   Package punkt is already up-to-date!\n"
     ]
    }
   ],
   "source": [
    "# Custom modules\n",
    "from extraction import extract_strings_from_xml\n",
    "from segmentation import content2txt"
   ]
  },
  {
   "cell_type": "markdown",
   "id": "b99b7c88",
   "metadata": {},
   "source": [
    "### Process 'fr_handwritten.xml'"
   ]
  },
  {
   "cell_type": "code",
   "execution_count": 7,
   "id": "2eddf580",
   "metadata": {},
   "outputs": [
    {
     "name": "stdout",
     "output_type": "stream",
     "text": [
      "Sentences have been successfully saved\n"
     ]
    }
   ],
   "source": [
    "data = extract_strings_from_xml(\"../data/fr_handwritten&printed.xml\")\n",
    "content2txt(\"../data/fr_transcript.txt\", text=data)"
   ]
  },
  {
   "cell_type": "code",
   "execution_count": null,
   "id": "c6ec02b9",
   "metadata": {},
   "outputs": [],
   "source": []
  }
 ],
 "metadata": {
  "kernelspec": {
   "display_name": "Python 3 (ipykernel)",
   "language": "python",
   "name": "python3"
  },
  "language_info": {
   "codemirror_mode": {
    "name": "ipython",
    "version": 3
   },
   "file_extension": ".py",
   "mimetype": "text/x-python",
   "name": "python",
   "nbconvert_exporter": "python",
   "pygments_lexer": "ipython3",
   "version": "3.10.11"
  }
 },
 "nbformat": 4,
 "nbformat_minor": 5
}
