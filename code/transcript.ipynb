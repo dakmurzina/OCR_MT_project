{
 "cells": [
  {
   "cell_type": "markdown",
   "id": "1e1172e8",
   "metadata": {},
   "source": [
    "## Import libraries"
   ]
  },
  {
   "cell_type": "code",
   "execution_count": 9,
   "id": "b7890537",
   "metadata": {},
   "outputs": [],
   "source": [
    "# Custom modules\n",
    "from extraction import extract_strings_from_xml\n",
    "from segmentation import content2txt\n",
    "import os"
   ]
  },
  {
   "cell_type": "markdown",
   "id": "b99b7c88",
   "metadata": {},
   "source": [
    "### Extract ground truth for 3 sentences"
   ]
  },
  {
   "cell_type": "code",
   "execution_count": 7,
   "id": "2eddf580",
   "metadata": {},
   "outputs": [
    {
     "name": "stdout",
     "output_type": "stream",
     "text": [
      "Sentences have been successfully saved\n"
     ]
    }
   ],
   "source": [
    "data = extract_strings_from_xml(\"../data/fr_handwritten&printed.xml\")\n",
    "content2txt(\"../data/fr_transcript.txt\", text=data)"
   ]
  },
  {
   "cell_type": "markdown",
   "id": "4fb9c99e",
   "metadata": {},
   "source": [
    "### Extract ground truth 39 sentences"
   ]
  },
  {
   "cell_type": "code",
   "execution_count": 44,
   "id": "cc5a73db",
   "metadata": {},
   "outputs": [],
   "source": [
    "content = []\n",
    "for file in os.listdir('xml'):\n",
    "    if file[-4:] == '.xml':\n",
    "        text = extract_strings_from_xml(f'xml/{file}')\n",
    "        content.append(text)     "
   ]
  },
  {
   "cell_type": "code",
   "execution_count": 45,
   "id": "c2e33e1e",
   "metadata": {},
   "outputs": [],
   "source": [
    "ground_truth = \" \".join(content)"
   ]
  },
  {
   "cell_type": "code",
   "execution_count": 46,
   "id": "5a493801",
   "metadata": {},
   "outputs": [
    {
     "data": {
      "text/plain": [
       "\"Xisela Arando, née le 4 mars 1986 à Vigo, est une joueuse professionelle de squash représentant l'Espagne. Elle atteint en octobre 2016 la 137^e place mondiale sur le circuit international, son meilleur classement. Elle est champione d'Espagne, à sept reprises consécutivement de 2010 à 2016. Le Secret de Moonacre (The Secret of Moonacre) est un film de fantasy, réalisé par Gabor Csupo, sorti en 2008. Il est adapté du roman Le Cheval d'argent d'Elizabeth Goudge, sorti en 1946. == Synopis == À l'époque victorienne, Maria Merryweather, une jeune orpheline ayant perdu recemment son père part vivre chez son oncle Sir Benjamin Merryweather, accompagnée de sa gouvernante : Miss Héliotrope. Tatyana Vasiljevna Kazankina, née le 17 décembre 1951 à Petrovsk, est une ancienne athlète d'URSS, pratiquant le demi-fond. Championne olympique à trois reprises, elle a établi durant sa carrière 6 records du monde individuels, du 800 au 3000m. ==Biographie== Le 28 juin 1976 à Podolsk, Tatyana Kazankina améliore de près de quatre secondes le record du monde du 1500 mètre détenu par sa compatriote Lyudmila Bragina depuis les Jeux olympiques de Munich. David Archibald (né le 14 avril 1969 à Chilliwack en Colombie-Britannique au Canada) est un joueur professionnel canadien de hocker sur glace. Il évolue au poste d'ailier droit == Biographie == Alors issu des Winterhawks de Portland dans la ligne de hockey de l'Ouest, il est repêché par les North Stars du Minnessota en 6^e position lors du repêchage d'entrée de 1987 dans la ligne nationale de hockey. Le canton de Vaubecourt est une ancienne division administrative française du département de la Meuse. Le canton est crée en 1790 sous la Révolution française. À la suite du redécoupage cantonal de 2014, le canton est supprimé. Lessons for Children (« Leçons pour les enfants » est une série de quatre livres destinés aux enfants, écrits par l'essayiste et poète britannique Anna Laetitia Barbauld. Publiés entre 1778 et 1779, ces ouvrages initièrent une révolution dans le monde de la littérature enfantine anglo-américaine. Pour la première fois, les besoins des jeunes lecteurs sont sérieusement pris en considération : la complexité des textes croît au fur et à mesure de l'apprentissage de l'enfant. Dans ce qui est peut-être la première manifestation de pédagogie expéri>entielle< en litérature pour enfants. anglo-Américaine, les livres d'Anna Laetitia Barbauld, sur le Richezza de Lorraine (en polonais : Rycheza Lotaryńska), née vers 993 et morte le 21 mars 1063 à Saalfeld en Thuringe, fut reine de Pologne de 1025 à 1031, puis duchesse de Pologne de 1032 à 1034, en tant qu'épouse du souverain Mieszko II Lambert. Du lien matrimonial constitué entre Richezza et Mieszko, le jeune État polonais se rattache à la tradition des royaumes francs. Après le décès de son mari, la veuve s'est retirée aux domaines de sa famille, les Ezzonides, au >saint< >du< sein du Saint-Empire romain. Par leur descendants, elle est devenue l'ancêtre des dynasties européennes des Piast, des Riourikides et des Árpád. Le lapachol est un composé organique naturellement présent dans l'arbre lapacho, d'où il tire d'ailleurs son nom. Chimiquement, c'est un dérive de la naphtoquinone, proche de la vitamine K. Certains l'ont etudie comme possible traitement de certains types de cancers, mais il a été trouvé que son potentiel dans ce domaine est faible, dû aux effets secondaires qu'engendre sa toxicité,,,. Le rasage est une technique et un soin d'épilation temporaire basé sur l'usage d'un rasoir. Chez les hommes, le rasage concerne le plus souvent les poils du visage, et parfois le torse, le pubis, les aisselles >et< ou >parfois< encore les cheveux lorsqu'ils sont très courts. Chez les femmes, le rasage conserne plutôt les jambes, les aisselles et parfois le pubis. Le rasage de la tête est principalement le fait des hommes, souvent militaires ou dans le cadre de sports de compétition comme la natation ou les sports extrêmes, ou encore d'une religion particulière ou d'une culture urbaine (skinhead) Oughterard est une ville du County Galway en Irlande. Selon le recensement de la République d'Irlande de 2011, il y avait 2 604 personnes vivant dans la circonscription électorale d'Oughterard et 1 333 personnes >.< vivant dans la ville elle-même (qui fait partie de la circonscription électorale). Berceuse pour moi est un album d'Anne Sylvestre paru chez Philips. Il est paru sous le titre Anne Sylvestre no 5. Il est désigné par convention sous le titre de sa première chanson afin d'éviter toute confusion. Oued Lilli est une commune de la commune de la wilaya de Tiaret en Algérie. Le métoclopramide (DCI) est un neuroleptique antiémétique antagoniste de la dopamine, de la famille des benzamides couramment utilisé en médecine humaine et vétérinaire (aussi bien en médecine générale qu'en médecine hospitalière). Il est aussi utilisé pour stimuler la motilité gastrique (prokinétique) en cas de gastroparésie. Il possède une petite action anti-reflux gastro- œsophagien. Il peut être administré par voie orale ou parentérale La mythologie nordique est l'ensemble des mythes provenant d'Europe du Nord (plus particulièrement de la Scandinavie) à la base du système religieux polythéiste pratiqué dans ces régions au haut Moyen Âge avant leur christianisation. Il s'agit d'une variante régionale et historique de la plus vaste mythologie germanique, qui fait elle-même partie de la mythologie conjecturelle indo-européenne dont d'autres variantes sont la mythologie grecque ou encore la mythologie perse, et qui a donné lieu à de nombreuses spéculation pseudo-historiques. Comme les autres, la mythologie nordique met en scène un nombre important de divinités, de créatures fabuleuses et de héros. Pendant des siècles, les mythes nordiques étaient transmis oralement, notamment par la poésie >scandinave< qui éleva la scaldique narration d'épopées mythologiques en une expression artistique\""
      ]
     },
     "execution_count": 46,
     "metadata": {},
     "output_type": "execute_result"
    }
   ],
   "source": [
    "ground_truth"
   ]
  },
  {
   "cell_type": "code",
   "execution_count": 47,
   "id": "6081c779",
   "metadata": {},
   "outputs": [
    {
     "name": "stdout",
     "output_type": "stream",
     "text": [
      "Sentences have been successfully saved\n"
     ]
    }
   ],
   "source": [
    "content2txt(\"../data/fr_ground_truth.txt\", text=ground_truth)"
   ]
  }
 ],
 "metadata": {
  "kernelspec": {
   "display_name": "Python 3 (ipykernel)",
   "language": "python",
   "name": "python3"
  },
  "language_info": {
   "codemirror_mode": {
    "name": "ipython",
    "version": 3
   },
   "file_extension": ".py",
   "mimetype": "text/x-python",
   "name": "python",
   "nbconvert_exporter": "python",
   "pygments_lexer": "ipython3",
   "version": "3.10.11"
  }
 },
 "nbformat": 4,
 "nbformat_minor": 5
}
