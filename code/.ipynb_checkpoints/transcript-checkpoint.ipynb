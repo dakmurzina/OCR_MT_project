{
 "cells": [
  {
   "cell_type": "markdown",
   "id": "1e1172e8",
   "metadata": {},
   "source": [
    "## Import libraries"
   ]
  },
  {
   "cell_type": "code",
   "execution_count": null,
   "id": "b7890537",
   "metadata": {},
   "outputs": [],
   "source": [
    "# Custom modules\n",
    "from extraction import extract_strings_from_xml\n",
    "from segmentation import content2txt"
   ]
  },
  {
   "cell_type": "markdown",
   "id": "b99b7c88",
   "metadata": {},
   "source": [
    "### Process 'fr_handwritten.xml'"
   ]
  },
  {
   "cell_type": "code",
   "execution_count": null,
   "id": "2eddf580",
   "metadata": {},
   "outputs": [],
   "source": [
    "data = extract_strings_from_xml(\"../data/fr_handwritten&printed.xml\")\n",
    "content2txt(\"../data/fr_transcript.xml\")"
   ]
  },
  {
   "cell_type": "code",
   "execution_count": null,
   "id": "dbb96cec",
   "metadata": {},
   "outputs": [],
   "source": []
  }
 ],
 "metadata": {
  "kernelspec": {
   "display_name": "Python 3 (ipykernel)",
   "language": "python",
   "name": "python3"
  },
  "language_info": {
   "codemirror_mode": {
    "name": "ipython",
    "version": 3
   },
   "file_extension": ".py",
   "mimetype": "text/x-python",
   "name": "python",
   "nbconvert_exporter": "python",
   "pygments_lexer": "ipython3",
   "version": "3.10.11"
  }
 },
 "nbformat": 4,
 "nbformat_minor": 5
}
