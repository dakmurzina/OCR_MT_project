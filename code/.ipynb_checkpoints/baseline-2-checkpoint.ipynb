{
 "cells": [
  {
   "cell_type": "markdown",
   "id": "006525a7",
   "metadata": {},
   "source": [
    "### Import libraries"
   ]
  },
  {
   "cell_type": "code",
   "execution_count": 4,
   "id": "34f9ce9d",
   "metadata": {},
   "outputs": [],
   "source": [
    "# Custom modules\n",
    "from segmentation import content2txt"
   ]
  },
  {
   "cell_type": "markdown",
   "id": "803377c6",
   "metadata": {},
   "source": [
    "### Sentence Segmentation for the handwritten OCR'd text 3 sentences"
   ]
  },
  {
   "cell_type": "code",
   "execution_count": null,
   "id": "3cbc99f9",
   "metadata": {},
   "outputs": [],
   "source": [
    "content2txt(\"../data/fr_hw_baseline_2.txt\", input_filepath=\"../data/fr_hw_transkribus_french_model_1_for_handwritten.txt\")"
   ]
  },
  {
   "cell_type": "markdown",
   "id": "2651e9c8",
   "metadata": {},
   "source": [
    "### Sentence Segmentation for the printed OCR'd text"
   ]
  },
  {
   "cell_type": "code",
   "execution_count": null,
   "id": "29db7def",
   "metadata": {},
   "outputs": [],
   "source": [
    "content2txt(\"../data/fr_pt_baseline_2.txt\", input_filepath=\"../data/fr_pt_transkribus_print_0.3_multi_language.txt\")"
   ]
  },
  {
   "cell_type": "markdown",
   "id": "91c3a139",
   "metadata": {},
   "source": [
    "### Sentence Segmentation for the handwritten OCR'd text 39 sentences"
   ]
  },
  {
   "cell_type": "code",
   "execution_count": 5,
   "id": "cac00a83",
   "metadata": {},
   "outputs": [
    {
     "name": "stdout",
     "output_type": "stream",
     "text": [
      "Sentences have been successfully saved\n"
     ]
    }
   ],
   "source": [
    "content2txt(\"../data/fr_hw_baseline_2_39_sent.txt\", input_filepath=\"../data/fr_hw_tr_french_model_1_39_sent.txt\")"
   ]
  },
  {
   "cell_type": "code",
   "execution_count": null,
   "id": "ad2cbb49",
   "metadata": {},
   "outputs": [],
   "source": [
    "if input_filepath == None and text != None:\n",
    "    # Segment the text into sentences\n",
    "    sentences = nltk.sent_tokenize(text)\n",
    "\n",
    "    # Save each sentence as one line in a new file\n",
    "    with open(output_filepath, \"w\", encoding='utf-8') as file:\n",
    "        for sentence in sentences:\n",
    "            file.write(sentence+'\\n')\n",
    "        print(\"Sentences have been successfully saved\")\n",
    "elif text == None and input_filepath != None:\n",
    "    # Open the file and get the text\n",
    "    with open(input_filepath, 'r', encoding='UTF-8') as file:\n",
    "        text = file.read()\n",
    "    # Segment the text into sentences    \n",
    "    sentences = nltk.sent_tokenize(text)\n",
    "\n",
    "    # Save each sentence as one line in a new file\n",
    "    with open(output_filepath, \"w\", encoding='utf-8') as file:\n",
    "        for sentence in sentences:\n",
    "            file.write(sentence+'\\n')\n",
    "        print(\"Sentences have been successfully saved\")\n",
    "else:\n",
    "    print(\"Please provide one of the following keyword arguments: text or input_filepath\")"
   ]
  }
 ],
 "metadata": {
  "kernelspec": {
   "display_name": "Python 3 (ipykernel)",
   "language": "python",
   "name": "python3"
  },
  "language_info": {
   "codemirror_mode": {
    "name": "ipython",
    "version": 3
   },
   "file_extension": ".py",
   "mimetype": "text/x-python",
   "name": "python",
   "nbconvert_exporter": "python",
   "pygments_lexer": "ipython3",
   "version": "3.10.11"
  }
 },
 "nbformat": 4,
 "nbformat_minor": 5
}
